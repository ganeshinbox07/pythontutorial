{
 "cells": [
  {
   "cell_type": "code",
   "execution_count": 1,
   "id": "89bc2609",
   "metadata": {},
   "outputs": [],
   "source": [
    "# variables  only A to Z , _"
   ]
  },
  {
   "cell_type": "code",
   "execution_count": 14,
   "id": "b08fae74",
   "metadata": {},
   "outputs": [
    {
     "name": "stdout",
     "output_type": "stream",
     "text": [
      "mathi , 100\n"
     ]
    }
   ],
   "source": [
    "phone_price=100\n",
    "name=\"mathi\"\n",
    "print(name,\",\",phone)"
   ]
  },
  {
   "cell_type": "code",
   "execution_count": 20,
   "id": "ab75d6d7",
   "metadata": {
    "scrolled": true
   },
   "outputs": [
    {
     "name": "stdout",
     "output_type": "stream",
     "text": [
      "5000\n",
      "4000\n",
      "5000 4000\n"
     ]
    }
   ],
   "source": [
    "watch,watch1=5000,4000\n",
    "print(watch)\n",
    "print(watch1)\n",
    "print(watch,watch1)"
   ]
  },
  {
   "cell_type": "code",
   "execution_count": 3,
   "id": "61d962c0",
   "metadata": {},
   "outputs": [
    {
     "name": "stdout",
     "output_type": "stream",
     "text": [
      "enter the value5\n",
      "the value is\n"
     ]
    },
    {
     "data": {
      "text/plain": [
       "120"
      ]
     },
     "execution_count": 3,
     "metadata": {},
     "output_type": "execute_result"
    }
   ],
   "source": [
    "import math\n",
    "g=int(input(\"enter the value\"))\n",
    "print(\"the value is\")\n",
    "math.factorial(g)"
   ]
  },
  {
   "cell_type": "code",
   "execution_count": 22,
   "id": "1c6943d8",
   "metadata": {},
   "outputs": [
    {
     "name": "stdout",
     "output_type": "stream",
     "text": [
      "ljlkhl,lkhkjsbvmjlh the sentance huieghjhuidbiutsuifh,mkj\n",
      "19\n",
      "24\n",
      "43\n"
     ]
    }
   ],
   "source": [
    "a=\"ljlkhl,lkhkjsbvmjlh\"\n",
    "b=\"huieghjhuidbiutsuifh,mkj\"\n",
    "print(a,\"the sentance\",b)\n",
    "#print(c)\n",
    "print(len(a))\n",
    "print(len(b))\n",
    "print(len(a+b))\n"
   ]
  },
  {
   "cell_type": "code",
   "execution_count": 8,
   "id": "8138871c",
   "metadata": {},
   "outputs": [
    {
     "name": "stdout",
     "output_type": "stream",
     "text": [
      "a\n"
     ]
    }
   ],
   "source": [
    "a=\"mathi\"\n",
    "print(a[1])"
   ]
  },
  {
   "cell_type": "code",
   "execution_count": 29,
   "id": "a55070e7",
   "metadata": {},
   "outputs": [
    {
     "name": "stdout",
     "output_type": "stream",
     "text": [
      "18\n",
      "i study in m\n"
     ]
    }
   ],
   "source": [
    "a=\"mathi study in mca\"\n",
    "print(len(a))\n",
    "print(a[4:16])"
   ]
  },
  {
   "cell_type": "code",
   "execution_count": 30,
   "id": "bcb01f71",
   "metadata": {},
   "outputs": [
    {
     "name": "stdout",
     "output_type": "stream",
     "text": [
      "     mathi study in mca our own way and frineds supports him        \n",
      "68\n",
      "mathi study in mca our own way and frineds supports him\n"
     ]
    }
   ],
   "source": [
    "para=\"\"\"     mathi study in mca our own way and frineds supports him        \"\"\" \n",
    "print(para)\n",
    "print(len(para))\n",
    "print(para.strip())"
   ]
  },
  {
   "cell_type": "code",
   "execution_count": 31,
   "id": "3ff414ad",
   "metadata": {},
   "outputs": [
    {
     "name": "stdout",
     "output_type": "stream",
     "text": [
      "MATHI STUDY IN MCA\n"
     ]
    }
   ],
   "source": [
    "print(a.upper())"
   ]
  },
  {
   "cell_type": "code",
   "execution_count": 32,
   "id": "e19858d1",
   "metadata": {},
   "outputs": [
    {
     "name": "stdout",
     "output_type": "stream",
     "text": [
      "mathi study in mca\n"
     ]
    }
   ],
   "source": [
    "print(a.lower())"
   ]
  },
  {
   "cell_type": "code",
   "execution_count": 8,
   "id": "1922e145",
   "metadata": {},
   "outputs": [
    {
     "ename": "NameError",
     "evalue": "name 'upper' is not defined",
     "output_type": "error",
     "traceback": [
      "\u001b[1;31m---------------------------------------------------------------------------\u001b[0m",
      "\u001b[1;31mNameError\u001b[0m                                 Traceback (most recent call last)",
      "Input \u001b[1;32mIn [8]\u001b[0m, in \u001b[0;36m<cell line: 2>\u001b[1;34m()\u001b[0m\n\u001b[0;32m      1\u001b[0m e\u001b[38;5;241m=\u001b[39m\u001b[38;5;124m\"\u001b[39m\u001b[38;5;124mcnvmdlhhm\u001b[39m\u001b[38;5;124m\"\u001b[39m\n\u001b[1;32m----> 2\u001b[0m \u001b[38;5;28mprint\u001b[39m(\u001b[43mupper\u001b[49m(e))\n",
      "\u001b[1;31mNameError\u001b[0m: name 'upper' is not defined"
     ]
    }
   ],
   "source": [
    "e=\"cnvmdlhhm\"\n",
    "print(upper(e))"
   ]
  },
  {
   "cell_type": "code",
   "execution_count": 34,
   "id": "c10c17ba",
   "metadata": {},
   "outputs": [
    {
     "name": "stdout",
     "output_type": "stream",
     "text": [
      "mama\n"
     ]
    }
   ],
   "source": [
    "r=\"mathi\"\n",
    "print(r.replace(\"thi\",\"ma\"))"
   ]
  },
  {
   "cell_type": "code",
   "execution_count": 10,
   "id": "fde61497",
   "metadata": {},
   "outputs": [
    {
     "name": "stdout",
     "output_type": "stream",
     "text": [
      "['ma', 'hi']\n"
     ]
    }
   ],
   "source": [
    "r=\"mathi\"\n",
    "print(r.split(\"t\"))"
   ]
  },
  {
   "cell_type": "code",
   "execution_count": 38,
   "id": "f3dd64b4",
   "metadata": {},
   "outputs": [
    {
     "name": "stdout",
     "output_type": "stream",
     "text": [
      "True\n"
     ]
    }
   ],
   "source": [
    "h1=\"mathi study mca\"\n",
    "print(\"mca\"in h1)"
   ]
  },
  {
   "cell_type": "code",
   "execution_count": 41,
   "id": "60ace739",
   "metadata": {},
   "outputs": [
    {
     "name": "stdout",
     "output_type": "stream",
     "text": [
      "mathi study mca mathavana in work\n"
     ]
    }
   ],
   "source": [
    "h2=\" mathavana in work\"\n",
    "print(h1+ h2)"
   ]
  },
  {
   "cell_type": "code",
   "execution_count": 45,
   "id": "b00b3ef4",
   "metadata": {},
   "outputs": [
    {
     "name": "stdout",
     "output_type": "stream",
     "text": [
      "True\n",
      "True\n"
     ]
    }
   ],
   "source": [
    "# boolean\n",
    "print(1<10)\n",
    "print(10==10)"
   ]
  },
  {
   "cell_type": "code",
   "execution_count": 4,
   "id": "e9ce5a22",
   "metadata": {},
   "outputs": [
    {
     "name": "stdout",
     "output_type": "stream",
     "text": [
      "['app', 'mango', 'cher', 'ban', 'app']\n",
      "ban\n"
     ]
    }
   ],
   "source": [
    "# list\n",
    "fruit=[\"app\",\"mango\",\"cher\",\"ban\",\"app\"]\n",
    "print(fruit)\n",
    "print(fruit[3])"
   ]
  },
  {
   "cell_type": "code",
   "execution_count": 5,
   "id": "b123dccf",
   "metadata": {},
   "outputs": [],
   "source": [
    "fruit.append(\"mathi\")"
   ]
  },
  {
   "cell_type": "code",
   "execution_count": 6,
   "id": "cd3c0e13",
   "metadata": {},
   "outputs": [
    {
     "name": "stdout",
     "output_type": "stream",
     "text": [
      "['app', 'mango', 'cher', 'ban', 'app', 'mathi']\n"
     ]
    }
   ],
   "source": [
    "print(fruit)"
   ]
  },
  {
   "cell_type": "code",
   "execution_count": 18,
   "id": "c46894c1",
   "metadata": {},
   "outputs": [],
   "source": [
    "fruit[3]=(\"mama\")"
   ]
  },
  {
   "cell_type": "code",
   "execution_count": 19,
   "id": "979c517d",
   "metadata": {},
   "outputs": [
    {
     "name": "stdout",
     "output_type": "stream",
     "text": [
      "['app', 'mango', 'cher', 'mama', 'app', 'mathi']\n"
     ]
    }
   ],
   "source": [
    "print(fruit)"
   ]
  },
  {
   "cell_type": "code",
   "execution_count": null,
   "id": "44d93b23",
   "metadata": {},
   "outputs": [],
   "source": []
  },
  {
   "cell_type": "code",
   "execution_count": 8,
   "id": "062fbfd7",
   "metadata": {},
   "outputs": [
    {
     "name": "stdout",
     "output_type": "stream",
     "text": [
      "('a', 'a', 'b', 'c', 'd', 'e', 'f')\n"
     ]
    }
   ],
   "source": [
    "# tuple\n",
    "fru=(\"a\",\"a\",\"b\",\"c\",\"d\",\"e\",\"f\")\n",
    "print(fru)"
   ]
  },
  {
   "cell_type": "code",
   "execution_count": null,
   "id": "9f63a108",
   "metadata": {},
   "outputs": [],
   "source": [
    "## function"
   ]
  },
  {
   "cell_type": "code",
   "execution_count": 5,
   "id": "73134123",
   "metadata": {},
   "outputs": [
    {
     "name": "stdout",
     "output_type": "stream",
     "text": [
      "(1, 2, 3, 4, 5)\n"
     ]
    }
   ],
   "source": [
    "\n",
    "def gan(g):\n",
    "    print(g)\n",
    "g=1,2,3,4,5    \n",
    "gan(g)    \n",
    "    "
   ]
  },
  {
   "cell_type": "code",
   "execution_count": 3,
   "id": "802d5181",
   "metadata": {},
   "outputs": [
    {
     "name": "stdout",
     "output_type": "stream",
     "text": [
      "1111.0\n"
     ]
    }
   ],
   "source": [
    "a='1_111'\n",
    "print(float(a))"
   ]
  },
  {
   "cell_type": "code",
   "execution_count": 11,
   "id": "67802479",
   "metadata": {},
   "outputs": [
    {
     "name": "stdout",
     "output_type": "stream",
     "text": [
      "enter num 20\n",
      "enter num 5\n",
      "enter any string mathi\n",
      "25\n",
      "hi,mathi\n",
      "15\n"
     ]
    }
   ],
   "source": [
    "def mat(a,b,d):\n",
    "    c=a+b\n",
    "    print(c)\n",
    "    print(\"hi,\"+d)\n",
    "    \n",
    "def math(a,b):\n",
    "    c=a-b\n",
    "    print(c)\n",
    "\n",
    "a=int(input(\"enter num \"))\n",
    "b=int(input(\"enter num \"))\n",
    "d=input(\"enter any string \")\n",
    "mat(a,b,d)\n",
    "math(a,b)"
   ]
  },
  {
   "cell_type": "code",
   "execution_count": 13,
   "id": "abf20536",
   "metadata": {},
   "outputs": [
    {
     "name": "stdout",
     "output_type": "stream",
     "text": [
      "100\n"
     ]
    }
   ],
   "source": [
    "def arun():\n",
    "    return 100\n",
    "print(arun())"
   ]
  },
  {
   "cell_type": "code",
   "execution_count": 15,
   "id": "eed52891",
   "metadata": {},
   "outputs": [
    {
     "name": "stdout",
     "output_type": "stream",
     "text": [
      "500\n"
     ]
    }
   ],
   "source": [
    "def arun(a):\n",
    "    return a*100\n",
    "print(arun(5))"
   ]
  },
  {
   "cell_type": "code",
   "execution_count": 21,
   "id": "bd3c9318",
   "metadata": {},
   "outputs": [
    {
     "name": "stdout",
     "output_type": "stream",
     "text": [
      "apple\n",
      "stawbeery\n",
      "orange\n",
      "mango\n"
     ]
    }
   ],
   "source": [
    "m=[\"apple\",\"stawbeery\",\"orange\",\"mango\"]\n",
    "for i in m:\n",
    "    print(i)"
   ]
  },
  {
   "cell_type": "code",
   "execution_count": 14,
   "id": "571899df",
   "metadata": {},
   "outputs": [
    {
     "name": "stdout",
     "output_type": "stream",
     "text": [
      "a *p *p *l *e *\n",
      "s *t *a *w *b *e *e *r *y *\n",
      "o *r *a *n *g *e *\n",
      "m *a *n *g *o *\n"
     ]
    }
   ],
   "source": [
    "m=[\"apple\",\"stawbeery\",\"orange\",\"mango\"]\n",
    "for i in m:\n",
    "    for j in i:\n",
    "        print(j,\"*\",end=\"\")\n",
    "    print()"
   ]
  },
  {
   "cell_type": "markdown",
   "id": "36f72542",
   "metadata": {},
   "source": [
    "## break"
   ]
  },
  {
   "cell_type": "code",
   "execution_count": 42,
   "id": "adee60c1",
   "metadata": {},
   "outputs": [
    {
     "name": "stdout",
     "output_type": "stream",
     "text": [
      "enter name hi, mathavan\n",
      "it's not in\n",
      "it's not in\n",
      "it's in\n",
      "it's not in\n",
      "it's not in\n",
      "it's not in\n",
      "it's not in\n",
      "it's not in\n",
      "it's not in\n",
      "it's not in\n",
      "it's not in\n",
      "it's not in\n"
     ]
    }
   ],
   "source": [
    "m=input(\"enter name \")\n",
    "for i in m:\n",
    "    if i==\",\":\n",
    "        print(\"it's in\")\n",
    "    else:\n",
    "        print(\"it's not in\")"
   ]
  },
  {
   "cell_type": "code",
   "execution_count": 43,
   "id": "0480284c",
   "metadata": {},
   "outputs": [
    {
     "name": "stdout",
     "output_type": "stream",
     "text": [
      "enter name hi, mathavan\n",
      "it's not in\n",
      "it's not in\n",
      "it's in\n"
     ]
    }
   ],
   "source": [
    "m=input(\"enter name \")\n",
    "for i in m:\n",
    "    if i==\",\":\n",
    "        print(\"it's in\")\n",
    "        break\n",
    "    else:\n",
    "        print(\"it's not in\")"
   ]
  },
  {
   "cell_type": "code",
   "execution_count": 15,
   "id": "dd206269",
   "metadata": {},
   "outputs": [
    {
     "name": "stdout",
     "output_type": "stream",
     "text": [
      "enter name hi,mathavan\n",
      "it's not in\n",
      "it's not in\n"
     ]
    }
   ],
   "source": [
    "m=input(\"enter name \")\n",
    "for i in m:\n",
    "    if i==\",\":\n",
    "        break\n",
    "        print(\"it's in\")\n",
    "        \n",
    "    else:\n",
    "        print(\"it's not in\")"
   ]
  },
  {
   "cell_type": "code",
   "execution_count": 16,
   "id": "7b3d94c3",
   "metadata": {},
   "outputs": [
    {
     "name": "stdout",
     "output_type": "stream",
     "text": [
      "enter name hi,mathivanan\n",
      "it's not in\n",
      "it's not in\n",
      "it's in\n",
      "it's not in\n",
      "it's not in\n",
      "it's not in\n",
      "it's not in\n",
      "it's not in\n",
      "it's not in\n",
      "it's not in\n",
      "it's not in\n",
      "it's not in\n",
      "it's not in\n"
     ]
    }
   ],
   "source": [
    "m=input(\"enter name \")\n",
    "for i in m:\n",
    "    if i==\",\":\n",
    "        print(\"it's in\")\n",
    "        continue\n",
    "    else:\n",
    "        print(\"it's not in\")"
   ]
  },
  {
   "cell_type": "code",
   "execution_count": 45,
   "id": "1087351b",
   "metadata": {},
   "outputs": [
    {
     "name": "stdout",
     "output_type": "stream",
     "text": [
      "enter name hi, mathavan\n",
      "it's not in\n",
      "it's not in\n",
      "it's not in\n",
      "it's not in\n",
      "it's not in\n",
      "it's not in\n",
      "it's not in\n",
      "it's not in\n",
      "it's not in\n",
      "it's not in\n",
      "it's not in\n"
     ]
    }
   ],
   "source": [
    "m=input(\"enter name \")\n",
    "for i in m:\n",
    "    if i==\",\":\n",
    "        continue\n",
    "        print(\"it's in\")\n",
    "    else:\n",
    "        print(\"it's not in\")"
   ]
  },
  {
   "cell_type": "code",
   "execution_count": 44,
   "id": "f9135d88",
   "metadata": {},
   "outputs": [
    {
     "name": "stdout",
     "output_type": "stream",
     "text": [
      "enter name hi, mathavan\n",
      "it's not in\n",
      "it's not in\n",
      "it's in\n",
      "it's not in\n",
      "it's not in\n",
      "it's not in\n",
      "it's not in\n",
      "it's not in\n",
      "it's not in\n",
      "it's not in\n",
      "it's not in\n",
      "it's not in\n"
     ]
    }
   ],
   "source": [
    "m=input(\"enter name \")\n",
    "for i in m:\n",
    "    if i==\",\":\n",
    "        print(\"it's in\")\n",
    "        continue\n",
    "    else:\n",
    "        print(\"it's not in\")"
   ]
  },
  {
   "cell_type": "code",
   "execution_count": 21,
   "id": "23703cc1",
   "metadata": {},
   "outputs": [
    {
     "name": "stdout",
     "output_type": "stream",
     "text": [
      "0\n",
      "0\n",
      "1\n",
      "1\n",
      "0\n",
      "1\n",
      "2\n",
      "0\n",
      "1\n",
      "3\n",
      "0\n",
      "1\n",
      "4\n",
      "0\n",
      "1\n"
     ]
    }
   ],
   "source": [
    "for i in range(5):\n",
    "    print(i)\n",
    "    for j in range(2):\n",
    "        print(j)\n",
    "        "
   ]
  },
  {
   "cell_type": "markdown",
   "id": "b3273c34",
   "metadata": {},
   "source": [
    "## while"
   ]
  },
  {
   "cell_type": "code",
   "execution_count": 22,
   "id": "90215c95",
   "metadata": {},
   "outputs": [
    {
     "name": "stdout",
     "output_type": "stream",
     "text": [
      "1\n",
      "2\n",
      "3\n",
      "4\n",
      "5\n"
     ]
    }
   ],
   "source": [
    "i=1\n",
    "while i<=5:\n",
    "    print(i)\n",
    "    i += 1"
   ]
  },
  {
   "cell_type": "code",
   "execution_count": null,
   "id": "6cd6b5b4",
   "metadata": {},
   "outputs": [],
   "source": [
    "## example"
   ]
  },
  {
   "cell_type": "code",
   "execution_count": 5,
   "id": "1f39b50d",
   "metadata": {},
   "outputs": [
    {
     "name": "stdout",
     "output_type": "stream",
     "text": [
      "enter your birth year2001\n",
      "your 30 year complete in the year of 2031\n"
     ]
    }
   ],
   "source": [
    "a=int(input(\"enter your birth year\"))\n",
    "b=a+30\n",
    "\n",
    "print(\"your 30 year complete in the year of\", b)"
   ]
  },
  {
   "cell_type": "code",
   "execution_count": 26,
   "id": "6f59463c",
   "metadata": {},
   "outputs": [
    {
     "name": "stdout",
     "output_type": "stream",
     "text": [
      "enter your birth you year 2500\n",
      "your 30 year complete in the year of 2530\n"
     ]
    }
   ],
   "source": [
    "def add(a):\n",
    "    b=a+30\n",
    "    print(\"your 30 year complete in the year of\", b)\n",
    "    \n",
    "a=int(input(\"enter your birth you year \"))  \n",
    "add(a)"
   ]
  },
  {
   "cell_type": "code",
   "execution_count": 19,
   "id": "12240fb5",
   "metadata": {},
   "outputs": [
    {
     "name": "stdout",
     "output_type": "stream",
     "text": [
      "enter num5\n",
      "    *\n",
      "   **\n",
      "  ***\n",
      " ****\n",
      "*****\n"
     ]
    }
   ],
   "source": [
    "def star(a):\n",
    "    k=a-1\n",
    "    for i in range(0,a):\n",
    "        \n",
    "        for j in range(0,k):\n",
    "            print(end=\" \")\n",
    "        k=k-1\n",
    "        for j in range(0,i+1):\n",
    "            print(\"*\",end=\"\")\n",
    "        print()\n",
    "a=int(input(\"enter num\"))\n",
    "star(a)"
   ]
  },
  {
   "cell_type": "code",
   "execution_count": 41,
   "id": "f7ec98b5",
   "metadata": {},
   "outputs": [
    {
     "name": "stdout",
     "output_type": "stream",
     "text": [
      "8\n",
      "* * * * * \n",
      "8\n",
      "* * * * * \n",
      "8\n",
      "* * * * * \n",
      "8\n",
      "* * * * * \n",
      "8\n",
      "* * * * * \n"
     ]
    }
   ],
   "source": [
    "for i in range(5):\n",
    "    print(8)\n",
    "    for j in range(5):\n",
    "        print(\"*\",end=\" \")\n",
    "    print()"
   ]
  },
  {
   "cell_type": "code",
   "execution_count": null,
   "id": "b09bbec5",
   "metadata": {},
   "outputs": [],
   "source": []
  },
  {
   "cell_type": "code",
   "execution_count": 3,
   "id": "a9f4a333",
   "metadata": {},
   "outputs": [
    {
     "name": "stdout",
     "output_type": "stream",
     "text": [
      "*****\n",
      "*****\n",
      "*****\n",
      "*****\n",
      "*****\n"
     ]
    }
   ],
   "source": [
    "for i in range(0,5):\n",
    "    for j in range(0,5):\n",
    "        print(\"*\",end=\"\")\n",
    "    print()"
   ]
  },
  {
   "cell_type": "code",
   "execution_count": 13,
   "id": "7c3cd558",
   "metadata": {},
   "outputs": [
    {
     "name": "stdout",
     "output_type": "stream",
     "text": [
      "1\n",
      "1\n",
      "2\n",
      "3\n",
      "5\n",
      "8\n",
      "13\n",
      "21\n",
      "34\n",
      "55\n"
     ]
    }
   ],
   "source": [
    "def add(n):\n",
    "    a=0\n",
    "    b=1\n",
    "    c=1\n",
    "    for i in range(n):\n",
    "       \n",
    "        print(c)\n",
    "        c=a+b\n",
    "        a=b\n",
    "        b=c\n",
    "        \n",
    "add(10)"
   ]
  },
  {
   "cell_type": "code",
   "execution_count": 14,
   "id": "51895a4e",
   "metadata": {},
   "outputs": [
    {
     "name": "stdout",
     "output_type": "stream",
     "text": [
      "0\n",
      "1\n",
      "1\n",
      "2\n",
      "3\n",
      "5\n",
      "8\n",
      "13\n",
      "21\n",
      "34\n"
     ]
    }
   ],
   "source": [
    "def fib(n):\n",
    "    a=0\n",
    "    b=-1\n",
    "    c=1\n",
    "    for i in range(n):\n",
    "        a=b \n",
    "        b=c\n",
    "        c=a+b\n",
    "        print(c)\n",
    "fib(10)"
   ]
  },
  {
   "cell_type": "code",
   "execution_count": null,
   "id": "0820fdc5",
   "metadata": {},
   "outputs": [],
   "source": [
    "a=-1        a=1        a=0       a=1\n",
    "b=1         b=0        b=1       b=1\n",
    "c=-1+1      c=1+0      c=0+1     c=1+1\n",
    "c=0         c=1        c=1       c=2\n",
    "\n"
   ]
  },
  {
   "cell_type": "code",
   "execution_count": 32,
   "id": "762054b4",
   "metadata": {
    "scrolled": true
   },
   "outputs": [
    {
     "name": "stdout",
     "output_type": "stream",
     "text": [
      "0 is even number \n",
      "1 odd numbers\n",
      "2 is even number \n",
      "3 odd numbers\n",
      "4 is even number \n",
      "5 odd numbers\n",
      "6 is even number \n",
      "7 odd numbers\n",
      "8 is even number \n",
      "9 odd numbers\n",
      "10 is even number \n",
      "11 odd numbers\n",
      "12 is even number \n",
      "13 odd numbers\n",
      "14 is even number \n",
      "15 odd numbers\n",
      "16 is even number \n",
      "17 odd numbers\n",
      "18 is even number \n",
      "19 odd numbers\n"
     ]
    }
   ],
   "source": [
    "def ma(n):\n",
    "    for i in range(n):\n",
    "        if i%2==0:\n",
    "            print(i,\"is even number \")\n",
    "        else:\n",
    "            print(i,\"odd numbers\")\n",
    "ma(20)"
   ]
  },
  {
   "cell_type": "code",
   "execution_count": 35,
   "id": "be4da1fb",
   "metadata": {},
   "outputs": [
    {
     "name": "stdout",
     "output_type": "stream",
     "text": [
      "*****\n",
      "****\n",
      "***\n",
      "**\n",
      "*\n"
     ]
    }
   ],
   "source": [
    "for i in range(5):\n",
    "    for j in range(5,i,-1):\n",
    "        print(\"*\",end=\"\")\n",
    "    print()\n",
    "    "
   ]
  },
  {
   "cell_type": "code",
   "execution_count": 16,
   "id": "82de5516",
   "metadata": {},
   "outputs": [
    {
     "name": "stdout",
     "output_type": "stream",
     "text": [
      "enter num 5\n",
      "*****\n",
      " ****\n",
      "  ***\n",
      "   **\n",
      "    *\n"
     ]
    }
   ],
   "source": [
    "n=int(input(\"enter num \"))\n",
    "k=n\n",
    "for i in range(n):\n",
    "    for j in range(0,i):\n",
    "        print(\" \",end=\"\")\n",
    "    for j in range(k,0,-1):\n",
    "        print(\"*\",end=\"\")\n",
    "    k=k-1\n",
    "    print()"
   ]
  },
  {
   "cell_type": "code",
   "execution_count": null,
   "id": "e6abceed",
   "metadata": {},
   "outputs": [],
   "source": []
  }
 ],
 "metadata": {
  "kernelspec": {
   "display_name": "Python 3 (ipykernel)",
   "language": "python",
   "name": "python3"
  },
  "language_info": {
   "codemirror_mode": {
    "name": "ipython",
    "version": 3
   },
   "file_extension": ".py",
   "mimetype": "text/x-python",
   "name": "python",
   "nbconvert_exporter": "python",
   "pygments_lexer": "ipython3",
   "version": "3.9.12"
  }
 },
 "nbformat": 4,
 "nbformat_minor": 5
}
