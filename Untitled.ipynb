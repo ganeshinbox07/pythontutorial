{
 "cells": [
  {
   "cell_type": "code",
   "execution_count": 15,
   "id": "2c56b0a1",
   "metadata": {},
   "outputs": [
    {
     "name": "stdout",
     "output_type": "stream",
     "text": [
      "enter the num15\n"
     ]
    }
   ],
   "source": [
    "def add(a):\n",
    "    \n",
    "    if a%2==0:\n",
    "        return\"even\"\n",
    "    else:\n",
    "        return\"odd\"\n",
    "a=int(input(\"enter the num\"))    \n",
    "val=add(a)\n"
   ]
  },
  {
   "cell_type": "code",
   "execution_count": 16,
   "id": "7ade879c",
   "metadata": {},
   "outputs": [
    {
     "name": "stdout",
     "output_type": "stream",
     "text": [
      "odd\n"
     ]
    }
   ],
   "source": [
    "print(val)"
   ]
  },
  {
   "cell_type": "code",
   "execution_count": 31,
   "id": "93ed5c24",
   "metadata": {},
   "outputs": [],
   "source": [
    "def gan(n,m):\n",
    "    a=n+m\n",
    "    return a\n",
    "val=gan(5,10)"
   ]
  },
  {
   "cell_type": "code",
   "execution_count": 32,
   "id": "c722432d",
   "metadata": {},
   "outputs": [
    {
     "data": {
      "text/plain": [
       "15"
      ]
     },
     "execution_count": 32,
     "metadata": {},
     "output_type": "execute_result"
    }
   ],
   "source": [
    "val"
   ]
  },
  {
   "cell_type": "code",
   "execution_count": 39,
   "id": "0295623b",
   "metadata": {},
   "outputs": [
    {
     "name": "stdout",
     "output_type": "stream",
     "text": [
      "enter n 50\n",
      "enter m 50\n"
     ]
    }
   ],
   "source": [
    "def gan(n,m):\n",
    "    a=n+m\n",
    "    return a\n",
    "n=int(input(\"enter n \"))\n",
    "m=int(input(\"enter m \"))\n",
    "val=gan(n,m)"
   ]
  },
  {
   "cell_type": "code",
   "execution_count": 25,
   "id": "b980462a",
   "metadata": {},
   "outputs": [
    {
     "name": "stdout",
     "output_type": "stream",
     "text": [
      "(8, 7)\n"
     ]
    }
   ],
   "source": [
    "def add(a,b):\n",
    "    return a+5,b+5\n",
    "result=add(3,2)\n",
    "print(result)"
   ]
  },
  {
   "cell_type": "code",
   "execution_count": 30,
   "id": "1113e366",
   "metadata": {
    "scrolled": true
   },
   "outputs": [
    {
     "name": "stdout",
     "output_type": "stream",
     "text": [
      "73.0\n"
     ]
    }
   ],
   "source": [
    "f=\"7\"\n",
    "f=f+\"0\"\n",
    "e=int(f)+3\n",
    "print(float(e))"
   ]
  },
  {
   "cell_type": "code",
   "execution_count": 8,
   "id": "218facb0",
   "metadata": {},
   "outputs": [
    {
     "name": "stdout",
     "output_type": "stream",
     "text": [
      "{1, 2, 3, 4, '4'}\n"
     ]
    }
   ],
   "source": [
    "s1={1,2,3,int(4)}\n",
    "s2={3,str('4')}\n",
    "print(s1.union(s2))"
   ]
  },
  {
   "cell_type": "code",
   "execution_count": 11,
   "id": "99a0c614",
   "metadata": {},
   "outputs": [
    {
     "name": "stdout",
     "output_type": "stream",
     "text": [
      "(1, 2, 3, 4, 3, '4')\n"
     ]
    }
   ],
   "source": [
    "s1=(1,2,3,int(4))\n",
    "s2=(3,str('4'))\n",
    "print(s1+s2)"
   ]
  },
  {
   "cell_type": "code",
   "execution_count": 12,
   "id": "c6f9a58c",
   "metadata": {},
   "outputs": [
    {
     "name": "stdout",
     "output_type": "stream",
     "text": [
      "[1, 2, 3, 4, 3, '4']\n"
     ]
    }
   ],
   "source": [
    "s1=[1,2,3,int(4)]\n",
    "s2=[3,str('4')]\n",
    "print(s1+s2)"
   ]
  },
  {
   "cell_type": "code",
   "execution_count": 1,
   "id": "6a244fe0",
   "metadata": {},
   "outputs": [
    {
     "data": {
      "text/plain": [
       "39"
      ]
     },
     "execution_count": 1,
     "metadata": {},
     "output_type": "execute_result"
    }
   ],
   "source": [
    "11+11+17\n"
   ]
  },
  {
   "cell_type": "code",
   "execution_count": 3,
   "id": "f3fb55d7",
   "metadata": {},
   "outputs": [
    {
     "data": {
      "text/plain": [
       "0.4"
      ]
     },
     "execution_count": 3,
     "metadata": {},
     "output_type": "execute_result"
    }
   ],
   "source": [
    "12/30"
   ]
  },
  {
   "cell_type": "code",
   "execution_count": 4,
   "id": "65da77b2",
   "metadata": {},
   "outputs": [
    {
     "data": {
      "text/plain": [
       "0.3333333333333333"
      ]
     },
     "execution_count": 4,
     "metadata": {},
     "output_type": "execute_result"
    }
   ],
   "source": [
    "10/30"
   ]
  },
  {
   "cell_type": "code",
   "execution_count": 5,
   "id": "326bb883",
   "metadata": {},
   "outputs": [
    {
     "data": {
      "text/plain": [
       "0.26666666666666666"
      ]
     },
     "execution_count": 5,
     "metadata": {},
     "output_type": "execute_result"
    }
   ],
   "source": [
    "8/30"
   ]
  },
  {
   "cell_type": "code",
   "execution_count": 6,
   "id": "01d3f735",
   "metadata": {},
   "outputs": [
    {
     "data": {
      "text/plain": [
       "0.28205128205128205"
      ]
     },
     "execution_count": 6,
     "metadata": {},
     "output_type": "execute_result"
    }
   ],
   "source": [
    "11/39\n"
   ]
  },
  {
   "cell_type": "code",
   "execution_count": 7,
   "id": "2822978b",
   "metadata": {},
   "outputs": [
    {
     "data": {
      "text/plain": [
       "0.4358974358974359"
      ]
     },
     "execution_count": 7,
     "metadata": {},
     "output_type": "execute_result"
    }
   ],
   "source": [
    "17/39"
   ]
  },
  {
   "cell_type": "code",
   "execution_count": 9,
   "id": "5c21bc60",
   "metadata": {},
   "outputs": [
    {
     "data": {
      "text/plain": [
       "100"
      ]
     },
     "execution_count": 9,
     "metadata": {},
     "output_type": "execute_result"
    }
   ],
   "source": [
    "28+28+44"
   ]
  },
  {
   "cell_type": "code",
   "execution_count": 16,
   "id": "2ee2bc8b",
   "metadata": {},
   "outputs": [
    {
     "data": {
      "text/plain": [
       "40"
      ]
     },
     "execution_count": 16,
     "metadata": {},
     "output_type": "execute_result"
    }
   ],
   "source": [
    "3+7+13+17"
   ]
  },
  {
   "cell_type": "code",
   "execution_count": null,
   "id": "4906e193",
   "metadata": {},
   "outputs": [],
   "source": [
    "7+10+3"
   ]
  },
  {
   "cell_type": "code",
   "execution_count": 18,
   "id": "9d4af919",
   "metadata": {},
   "outputs": [
    {
     "name": "stdout",
     "output_type": "stream",
     "text": [
      "enter password54dfmlhguef+\n",
      "enter conform passwordbgfytwfdṁ jghd\n",
      "logout\n"
     ]
    }
   ],
   "source": [
    "a=input(\"enter password\")\n",
    "b=input(\"enter conform password\")\n",
    "\"\"\" pass word pogram \"\"\"\n",
    "if a==b:\n",
    "    print(\"login\")\n",
    "else:\n",
    "    print(\"logout\")"
   ]
  },
  {
   "cell_type": "code",
   "execution_count": 19,
   "id": "5ef6573e",
   "metadata": {},
   "outputs": [
    {
     "name": "stdout",
     "output_type": "stream",
     "text": [
      "400.0\n"
     ]
    }
   ],
   "source": [
    "a=100\n",
    "b=5\n",
    "print(a//b*a/b)"
   ]
  },
  {
   "cell_type": "code",
   "execution_count": 19,
   "id": "62744c7d",
   "metadata": {},
   "outputs": [
    {
     "name": "stdout",
     "output_type": "stream",
     "text": [
      "55\n"
     ]
    }
   ],
   "source": [
    "a='5' \n",
    "b='5'\n",
    "print(a+b)"
   ]
  },
  {
   "cell_type": "code",
   "execution_count": 20,
   "id": "13d70540",
   "metadata": {},
   "outputs": [
    {
     "name": "stdout",
     "output_type": "stream",
     "text": [
      "enter any think\n",
      "gan\n",
      "another\n",
      "esh\n"
     ]
    }
   ],
   "source": [
    "print(\"enter any think\")\n",
    "a=input()\n",
    "print (\"another\")\n",
    "b=input()"
   ]
  },
  {
   "cell_type": "code",
   "execution_count": 21,
   "id": "6d87438c",
   "metadata": {},
   "outputs": [
    {
     "name": "stdout",
     "output_type": "stream",
     "text": [
      "ganesh\n"
     ]
    }
   ],
   "source": [
    "print(a+b)"
   ]
  },
  {
   "cell_type": "markdown",
   "id": "4e96db42",
   "metadata": {},
   "source": [
    "# lambda functions"
   ]
  },
  {
   "cell_type": "code",
   "execution_count": 2,
   "id": "786c8a2d",
   "metadata": {},
   "outputs": [
    {
     "data": {
      "text/plain": [
       "3125"
      ]
     },
     "execution_count": 2,
     "metadata": {},
     "output_type": "execute_result"
    }
   ],
   "source": [
    "sr=lambda x:x**x\n",
    "sr(5)"
   ]
  },
  {
   "cell_type": "code",
   "execution_count": 8,
   "id": "7205909b",
   "metadata": {},
   "outputs": [
    {
     "data": {
      "text/plain": [
       "3125"
      ]
     },
     "execution_count": 8,
     "metadata": {},
     "output_type": "execute_result"
    }
   ],
   "source": [
    "5*5*5*5*5"
   ]
  },
  {
   "cell_type": "code",
   "execution_count": 10,
   "id": "c514ecdf",
   "metadata": {},
   "outputs": [
    {
     "data": {
      "text/plain": [
       "3125"
      ]
     },
     "execution_count": 10,
     "metadata": {},
     "output_type": "execute_result"
    }
   ],
   "source": [
    "a=5**5\n",
    "a"
   ]
  },
  {
   "cell_type": "code",
   "execution_count": 14,
   "id": "bc439f89",
   "metadata": {},
   "outputs": [
    {
     "data": {
      "text/plain": [
       "20"
      ]
     },
     "execution_count": 14,
     "metadata": {},
     "output_type": "execute_result"
    }
   ],
   "source": [
    "f=lambda a,b:a*b\n",
    "result=f(4,5)\n",
    "result"
   ]
  },
  {
   "cell_type": "code",
   "execution_count": 17,
   "id": "803f5a46",
   "metadata": {},
   "outputs": [
    {
     "data": {
      "text/plain": [
       "10"
      ]
     },
     "execution_count": 17,
     "metadata": {},
     "output_type": "execute_result"
    }
   ],
   "source": [
    "def gan(a):\n",
    "    return a+a\n",
    "result=gan(5)\n",
    "result"
   ]
  },
  {
   "cell_type": "code",
   "execution_count": null,
   "id": "f7b84535",
   "metadata": {},
   "outputs": [],
   "source": [
    "a=[\"gan\",\"mathi\",\"mama\",\"arun\"]\n",
    "print(a[2])"
   ]
  },
  {
   "cell_type": "code",
   "execution_count": null,
   "id": "f3eb092c",
   "metadata": {},
   "outputs": [],
   "source": [
    "n=int(input(\"enter the value \"))\n",
    "count=0\n",
    "for i in range(1,n+1):\n",
    "    if n%i==0:\n",
    "        \n",
    "        count +=1\n",
    "    \n",
    "if count ==2:\n",
    "    print(n,\"is a prime number\")\n",
    "else:\n",
    "    print(n,\"not a prime num\")"
   ]
  },
  {
   "cell_type": "markdown",
   "id": "15de4d2a",
   "metadata": {},
   "source": [
    "## prime number"
   ]
  },
  {
   "cell_type": "code",
   "execution_count": 7,
   "id": "a9e80d66",
   "metadata": {},
   "outputs": [
    {
     "name": "stdout",
     "output_type": "stream",
     "text": [
      "enter the value 141\n",
      "1\n",
      "3\n",
      "47\n",
      "141\n",
      "141 not a prime number\n"
     ]
    }
   ],
   "source": [
    "n=int(input(\"enter the value \"))\n",
    "count=0\n",
    "for i in range(1,n+1):\n",
    "    if n%i==0:\n",
    "        print(i)\n",
    "        count +=1\n",
    "if count ==2:\n",
    "    print(n, \"is a prime number\")\n",
    "\n",
    "else:\n",
    "    print(n, \"not a prime number\")\n"
   ]
  },
  {
   "cell_type": "code",
   "execution_count": 22,
   "id": "b2fa791d",
   "metadata": {},
   "outputs": [
    {
     "name": "stdout",
     "output_type": "stream",
     "text": [
      "enter the value 54\n",
      "2\n",
      "3\n",
      "5\n",
      "7\n",
      "11\n",
      "13\n",
      "17\n",
      "19\n",
      "23\n",
      "29\n",
      "31\n",
      "37\n",
      "41\n",
      "43\n",
      "47\n",
      "53\n"
     ]
    }
   ],
   "source": [
    "n=int(input(\"enter the value \"))\n",
    "\n",
    "for num in range(2,n+1):\n",
    "    \n",
    "        for i in range(2,num):\n",
    "            if num%i==0:\n",
    "                break \n",
    "        else:\n",
    "            print(num)"
   ]
  },
  {
   "cell_type": "code",
   "execution_count": null,
   "id": "d19ad358",
   "metadata": {},
   "outputs": [],
   "source": []
  }
 ],
 "metadata": {
  "kernelspec": {
   "display_name": "Python 3 (ipykernel)",
   "language": "python",
   "name": "python3"
  },
  "language_info": {
   "codemirror_mode": {
    "name": "ipython",
    "version": 3
   },
   "file_extension": ".py",
   "mimetype": "text/x-python",
   "name": "python",
   "nbconvert_exporter": "python",
   "pygments_lexer": "ipython3",
   "version": "3.9.12"
  }
 },
 "nbformat": 4,
 "nbformat_minor": 5
}
