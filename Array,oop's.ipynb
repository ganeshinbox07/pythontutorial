{
 "cells": [
  {
   "cell_type": "code",
   "execution_count": 7,
   "id": "c6380712",
   "metadata": {},
   "outputs": [
    {
     "name": "stdout",
     "output_type": "stream",
     "text": [
      "enter first num50\n",
      "enter the second num20\n",
      "70\n",
      "30\n"
     ]
    }
   ],
   "source": [
    "def mat(f,s):\n",
    "    a=f+s\n",
    "    b=f-s\n",
    "    return(a,b)\n",
    "f=int(input(\"enter first num\"))\n",
    "s=int(input(\"enter the second num\"))\n",
    "a,b=mat(f,s)\n",
    "print(a)\n",
    "print(b)"
   ]
  },
  {
   "cell_type": "code",
   "execution_count": 34,
   "id": "d8fc6fef",
   "metadata": {},
   "outputs": [
    {
     "name": "stdout",
     "output_type": "stream",
     "text": [
      "40\n",
      "10\n"
     ]
    }
   ],
   "source": [
    "y=10\n",
    "def add():\n",
    "    r=15\n",
    "    r=r+25\n",
    "    print(r)\n",
    "add()\n",
    "print(y)"
   ]
  },
  {
   "cell_type": "code",
   "execution_count": 36,
   "id": "d6b2de7b",
   "metadata": {},
   "outputs": [
    {
     "name": "stdout",
     "output_type": "stream",
     "text": [
      "(10, 11, 12)\n"
     ]
    }
   ],
   "source": [
    "def fun():\n",
    "    return 10,11,12\n",
    "print(fun())"
   ]
  },
  {
   "cell_type": "code",
   "execution_count": 8,
   "id": "a340118e",
   "metadata": {},
   "outputs": [
    {
     "name": "stdout",
     "output_type": "stream",
     "text": [
      "12\n",
      "13\n"
     ]
    }
   ],
   "source": [
    "x=13\n",
    "def san():\n",
    "    x=12\n",
    "    print(x)\n",
    "san()\n",
    "print(x)"
   ]
  },
  {
   "cell_type": "code",
   "execution_count": 39,
   "id": "93db803b",
   "metadata": {},
   "outputs": [
    {
     "name": "stdout",
     "output_type": "stream",
     "text": [
      "enter the nameganesh\n",
      "enter the rollno27\n",
      "enter the tam mark91\n",
      "enter the eng mark69\n",
      "enter the mat mark81\n",
      "enter the sci mark91\n",
      "ganesh\n",
      "27\n",
      "91\n",
      "69\n",
      "81\n",
      "91\n",
      "332\n"
     ]
    }
   ],
   "source": [
    "class a:\n",
    "    def nam(ba):\n",
    "        ba.na=input(\"enter the name\")\n",
    "        ba.ro=int(input(\"enter the rollno\"))\n",
    "    \n",
    "class b:\n",
    "    def mark(ba):\n",
    "        ba.tam=int(input(\"enter the tam mark\"))\n",
    "        ba.eng=int(input(\"enter the eng mark\"))\n",
    "        \n",
    "class c(a,b):\n",
    "    def tot(ba):\n",
    "        ba.mat=int(input(\"enter the mat mark\"))\n",
    "        ba.sci=int(input(\"enter the sci mark\"))\n",
    "        print(ba.na)\n",
    "        print(ba.ro)\n",
    "        print(ba.tam)\n",
    "        print(ba.eng)\n",
    "        print(ba.mat)\n",
    "        print(ba.sci)\n",
    "\n",
    "class d(c):\n",
    "    def dis(ba):\n",
    "        t=ba.tam+ba.eng+ba.mat+ba.sci\n",
    "        print(t)\n",
    "        \n",
    "gan=d()\n",
    "gan.nam()\n",
    "gan.mark()\n",
    "gan.tot()\n",
    "gan.dis()"
   ]
  },
  {
   "cell_type": "code",
   "execution_count": 59,
   "id": "cf0f6972",
   "metadata": {},
   "outputs": [
    {
     "name": "stdout",
     "output_type": "stream",
     "text": [
      "enter your name 4546\n",
      "enter roll no 465\n",
      "enter rice packs 565\n",
      "enter the daal packs 26522565\n",
      "enter the line packs 99164\n",
      "enter the unline packs 545411\n",
      "4546\n",
      "465\n",
      "565\n",
      "26522565\n",
      "99164\n",
      "545411\n",
      "total of ma 26523130\n",
      "total of mam 644575\n"
     ]
    }
   ],
   "source": [
    "class gan:\n",
    "    def ga(ba):\n",
    "        ba.name=input(\"enter your name \")\n",
    "        ba.roll=int(input(\"enter roll no \"))\n",
    "        \n",
    "class math:\n",
    "    def ma(ba):\n",
    "        ba.rice=int(input(\"enter rice packs \"))\n",
    "        ba.daal=int(input(\"enter the daal packs \"))\n",
    "        ba.ma=ba.rice+ba.daal\n",
    "        \n",
    "class mama:\n",
    "    def mam(ba):\n",
    "        ba.line=int(input(\"enter the line packs \"))\n",
    "        ba.unline=int(input(\"enter the unline packs \"))\n",
    "        ba.mam=ba.line+ba.unline\n",
    "        \n",
    "class arun(gan,math,mama):\n",
    "    def ar(ba):\n",
    "        print(ba.name)\n",
    "        print(ba.roll)\n",
    "        print(ba.rice)\n",
    "        print(ba.daal)\n",
    "        print(ba.line)\n",
    "        print(ba.unline)\n",
    "        print(\"total of ma\",ba.ma)\n",
    "        print(\"total of mam\",ba.mam)\n",
    "        \n",
    "vengi=arun()\n",
    "vengi.ga()\n",
    "vengi.ma()\n",
    "vengi.mam()\n",
    "vengi.ar()"
   ]
  },
  {
   "cell_type": "code",
   "execution_count": 3,
   "id": "99bce22e",
   "metadata": {},
   "outputs": [
    {
     "name": "stdout",
     "output_type": "stream",
     "text": [
      "enter the limit\n",
      "5\n",
      "enter the value\n",
      "1\n",
      "2\n",
      "3\n",
      "45\n",
      "6\n",
      "array('i', [1, 2, 3, 45, 6])\n"
     ]
    },
    {
     "data": {
      "text/plain": [
       "57"
      ]
     },
     "execution_count": 3,
     "metadata": {},
     "output_type": "execute_result"
    }
   ],
   "source": [
    "from array import *\n",
    "\n",
    "x=array(\"i\",[])\n",
    "print(\"enter the limit\")\n",
    "n=int(input())\n",
    "print(\"enter the value\")\n",
    "for i in range(n):\n",
    "    x.append(int(input()))\n",
    "print(x)\n",
    "sum(x)"
   ]
  },
  {
   "cell_type": "code",
   "execution_count": 11,
   "id": "8114e9ae",
   "metadata": {},
   "outputs": [
    {
     "name": "stdout",
     "output_type": "stream",
     "text": [
      "enter the input5\n",
      "    *\n",
      "   **\n",
      "  ***\n",
      " ****\n",
      "*****\n"
     ]
    }
   ],
   "source": [
    "n=int(input(\"enter the input\"))\n",
    "k=n-1\n",
    "for i in range(0,n):\n",
    "    for j in range(0,k):\n",
    "        print(end=\" \")\n",
    "    k=k-1\n",
    "    for j in range(0,i+1):\n",
    "        print(\"*\",end=\"\")\n",
    "            \n",
    "    print(\"\")\n",
    "   \n",
    "\n"
   ]
  },
  {
   "cell_type": "code",
   "execution_count": 55,
   "id": "5e57e5df",
   "metadata": {},
   "outputs": [
    {
     "name": "stdout",
     "output_type": "stream",
     "text": [
      "enter your num5\n",
      "    * \n",
      "   * * \n",
      "  * * * \n",
      " * * * * \n",
      "* * * * * \n"
     ]
    }
   ],
   "source": [
    "n=int(input(\"enter your num\"))\n",
    "k=n-1\n",
    "for i in range(0,n):\n",
    "    for j in range(0,k):\n",
    "        print(end=\" \")\n",
    "    k=k-1\n",
    "    for j in range(0,i+1):\n",
    "        print(\"*\",end=\" \")\n",
    "        \n",
    "    print(\"\")"
   ]
  },
  {
   "cell_type": "code",
   "execution_count": 11,
   "id": "fda8af9e",
   "metadata": {},
   "outputs": [
    {
     "name": "stdout",
     "output_type": "stream",
     "text": [
      "enter the num5\n",
      "*****\n",
      "****\n",
      "***\n",
      "**\n",
      "*\n"
     ]
    }
   ],
   "source": [
    "b=int(input(\"enter the num\"))\n",
    "for i in range(b):\n",
    "    for j in range(b-i):\n",
    "        print(\"*\",end=\"\")\n",
    "    print()"
   ]
  },
  {
   "cell_type": "code",
   "execution_count": 61,
   "id": "3df04364",
   "metadata": {},
   "outputs": [
    {
     "name": "stdout",
     "output_type": "stream",
     "text": [
      "enter the num5\n",
      "* * * * * \n",
      " * * * * \n",
      "  * * * \n",
      "   * * \n",
      "    * \n"
     ]
    }
   ],
   "source": [
    "n=int(input(\"enter the num\"))\n",
    "k=n\n",
    "for i in range(0,n):\n",
    "    for j in range(i):\n",
    "        print(end=\" \")\n",
    "    for j in range(k,0,-1):\n",
    "        print(\"*\",end=\" \")\n",
    "    k=k-1\n",
    "    print()\n",
    "\n",
    "\n"
   ]
  },
  {
   "cell_type": "code",
   "execution_count": 45,
   "id": "1c4befed",
   "metadata": {},
   "outputs": [
    {
     "name": "stdout",
     "output_type": "stream",
     "text": [
      "10\n",
      "8\n",
      "6\n",
      "4\n",
      "2\n"
     ]
    }
   ],
   "source": [
    "for i in range(10,0,-2):\n",
    "    print(i)"
   ]
  },
  {
   "cell_type": "code",
   "execution_count": 63,
   "id": "09bad637",
   "metadata": {},
   "outputs": [
    {
     "name": "stdout",
     "output_type": "stream",
     "text": [
      "enter the value15\n",
      "0\n",
      "1\n",
      "1\n",
      "2\n",
      "3\n",
      "5\n",
      "8\n",
      "13\n",
      "21\n",
      "34\n",
      "55\n",
      "89\n",
      "144\n",
      "233\n",
      "377\n"
     ]
    }
   ],
   "source": [
    "n=int(input(\"enter the value\"))\n",
    "a=0\n",
    "b=-1\n",
    "c=1\n",
    "for i in range(n):\n",
    "    a=b\n",
    "    b=c\n",
    "    c=a+b\n",
    "    print(c)"
   ]
  },
  {
   "cell_type": "code",
   "execution_count": 71,
   "id": "64c13503",
   "metadata": {},
   "outputs": [
    {
     "name": "stdout",
     "output_type": "stream",
     "text": [
      "enter the value15\n",
      "0\n",
      "1\n",
      "1\n",
      "2\n",
      "3\n",
      "5\n",
      "8\n",
      "13\n",
      "21\n",
      "34\n",
      "55\n",
      "89\n",
      "144\n",
      "233\n",
      "377\n",
      "the sum of fibonaci series 986\n"
     ]
    }
   ],
   "source": [
    "n=int(input(\"enter the value\"))\n",
    "a=0\n",
    "b=-1\n",
    "c=1\n",
    "d=0\n",
    "for i in range(n):\n",
    "    a=b\n",
    "    b=c\n",
    "    c=a+b\n",
    "    print(c)\n",
    "    d=d+c\n",
    "print(\"the sum of fibonaci series\",d)"
   ]
  },
  {
   "cell_type": "code",
   "execution_count": 1,
   "id": "e04eb29a",
   "metadata": {},
   "outputs": [
    {
     "name": "stdout",
     "output_type": "stream",
     "text": [
      "[12345]\n"
     ]
    }
   ],
   "source": [
    "a=[12345]\n",
    "print(a)"
   ]
  },
  {
   "cell_type": "code",
   "execution_count": 2,
   "id": "14897a17",
   "metadata": {},
   "outputs": [
    {
     "name": "stdout",
     "output_type": "stream",
     "text": [
      "[1, 2, 3, 4, 5, 6]\n"
     ]
    }
   ],
   "source": [
    "a=[1,2,3,4,5,6]\n",
    "print(a)"
   ]
  },
  {
   "cell_type": "code",
   "execution_count": 4,
   "id": "ae35f633",
   "metadata": {},
   "outputs": [
    {
     "name": "stdout",
     "output_type": "stream",
     "text": [
      "['1', '2', '3', '4']\n"
     ]
    }
   ],
   "source": [
    "a=['1','2','3','4']\n",
    "print(a)"
   ]
  },
  {
   "cell_type": "code",
   "execution_count": 7,
   "id": "ac969d8a",
   "metadata": {},
   "outputs": [
    {
     "name": "stdout",
     "output_type": "stream",
     "text": [
      "1\n",
      "gan\n",
      "2\n",
      "mathi\n",
      "arun\n",
      "mama\n",
      "3\n",
      "4\n",
      "['1', 'gan', '2', 'mathi', 'arun', 'mama', '3', '4']\n"
     ]
    }
   ],
   "source": [
    "a=['1','gan','2','mathi','arun','mama','3','4']\n",
    "for i in a:\n",
    "    print(i)\n",
    "print(a)"
   ]
  },
  {
   "cell_type": "code",
   "execution_count": 18,
   "id": "d793bf1b",
   "metadata": {},
   "outputs": [
    {
     "name": "stdout",
     "output_type": "stream",
     "text": [
      "[10, 20, 'gan', 30, 40, 'mathi']\n"
     ]
    }
   ],
   "source": [
    "a=[10,20,'gan']\n",
    "b=a\n",
    "b+=[30,40,'mathi']\n",
    "print(a)"
   ]
  },
  {
   "cell_type": "code",
   "execution_count": 23,
   "id": "74576594",
   "metadata": {},
   "outputs": [
    {
     "name": "stdout",
     "output_type": "stream",
     "text": [
      "14\n",
      "4\n"
     ]
    }
   ],
   "source": [
    "def add():\n",
    "    x=5\n",
    "    x+=x+4\n",
    "    print(x)\n",
    "add()  \n",
    "x=4\n",
    "print(x)"
   ]
  },
  {
   "cell_type": "code",
   "execution_count": 10,
   "id": "423378fd",
   "metadata": {},
   "outputs": [
    {
     "name": "stdout",
     "output_type": "stream",
     "text": [
      "21\n"
     ]
    }
   ],
   "source": [
    "x=0\n",
    "while x<=18:\n",
    "    x=x+3\n",
    "print(x)"
   ]
  },
  {
   "cell_type": "code",
   "execution_count": 15,
   "id": "743a3487",
   "metadata": {},
   "outputs": [
    {
     "name": "stdout",
     "output_type": "stream",
     "text": [
      "1.0\n"
     ]
    }
   ],
   "source": [
    "a=1/3\n",
    "b=3/1\n",
    "print(a*b)"
   ]
  },
  {
   "cell_type": "code",
   "execution_count": 16,
   "id": "d8c66915",
   "metadata": {},
   "outputs": [
    {
     "data": {
      "text/plain": [
       "0.3333333333333333"
      ]
     },
     "execution_count": 16,
     "metadata": {},
     "output_type": "execute_result"
    }
   ],
   "source": [
    "1/3"
   ]
  },
  {
   "cell_type": "code",
   "execution_count": 17,
   "id": "02856984",
   "metadata": {},
   "outputs": [
    {
     "data": {
      "text/plain": [
       "3.0"
      ]
     },
     "execution_count": 17,
     "metadata": {},
     "output_type": "execute_result"
    }
   ],
   "source": [
    "3/1"
   ]
  },
  {
   "cell_type": "code",
   "execution_count": 18,
   "id": "935b807b",
   "metadata": {},
   "outputs": [
    {
     "data": {
      "text/plain": [
       "1.0"
      ]
     },
     "execution_count": 18,
     "metadata": {},
     "output_type": "execute_result"
    }
   ],
   "source": [
    "0.3333333333333333*3.0"
   ]
  },
  {
   "cell_type": "code",
   "execution_count": 28,
   "id": "9d1b2e9c",
   "metadata": {},
   "outputs": [
    {
     "name": "stdout",
     "output_type": "stream",
     "text": [
      "[0]\n"
     ]
    }
   ],
   "source": [
    "def fun():\n",
    "    return[i for i in range(0,3,3)]\n",
    "print(fun())"
   ]
  },
  {
   "cell_type": "code",
   "execution_count": 1,
   "id": "1583c2c4",
   "metadata": {},
   "outputs": [],
   "source": [
    "s=\"pythonecoder\""
   ]
  },
  {
   "cell_type": "code",
   "execution_count": 2,
   "id": "5cdd51f6",
   "metadata": {},
   "outputs": [
    {
     "name": "stdout",
     "output_type": "stream",
     "text": [
      "pythonecoder\n"
     ]
    }
   ],
   "source": [
    "print(s)"
   ]
  },
  {
   "cell_type": "code",
   "execution_count": 3,
   "id": "19aed560",
   "metadata": {},
   "outputs": [
    {
     "data": {
      "text/plain": [
       "'ytho'"
      ]
     },
     "execution_count": 3,
     "metadata": {},
     "output_type": "execute_result"
    }
   ],
   "source": [
    "s[1:5]"
   ]
  },
  {
   "cell_type": "code",
   "execution_count": 18,
   "id": "9ebaefca",
   "metadata": {},
   "outputs": [
    {
     "data": {
      "text/plain": [
       "'ptoe'"
      ]
     },
     "execution_count": 18,
     "metadata": {},
     "output_type": "execute_result"
    }
   ],
   "source": [
    "s[0:8:2]"
   ]
  },
  {
   "cell_type": "code",
   "execution_count": 14,
   "id": "f180f70a",
   "metadata": {},
   "outputs": [
    {
     "data": {
      "text/plain": [
       "'rdcnhy'"
      ]
     },
     "execution_count": 14,
     "metadata": {},
     "output_type": "execute_result"
    }
   ],
   "source": [
    "s[11:0:-2]"
   ]
  },
  {
   "cell_type": "code",
   "execution_count": 20,
   "id": "2f5a6b94",
   "metadata": {},
   "outputs": [],
   "source": [
    "a,b,c,d=5,\"gan\",10.5,\"10 mathi\""
   ]
  },
  {
   "cell_type": "code",
   "execution_count": 21,
   "id": "a8ce6d75",
   "metadata": {},
   "outputs": [
    {
     "data": {
      "text/plain": [
       "5"
      ]
     },
     "execution_count": 21,
     "metadata": {},
     "output_type": "execute_result"
    }
   ],
   "source": [
    "a\n"
   ]
  },
  {
   "cell_type": "code",
   "execution_count": 22,
   "id": "09aa67e2",
   "metadata": {},
   "outputs": [
    {
     "data": {
      "text/plain": [
       "'gan'"
      ]
     },
     "execution_count": 22,
     "metadata": {},
     "output_type": "execute_result"
    }
   ],
   "source": [
    "b"
   ]
  },
  {
   "cell_type": "code",
   "execution_count": 23,
   "id": "50dfb242",
   "metadata": {},
   "outputs": [
    {
     "data": {
      "text/plain": [
       "10.5"
      ]
     },
     "execution_count": 23,
     "metadata": {},
     "output_type": "execute_result"
    }
   ],
   "source": [
    "c"
   ]
  },
  {
   "cell_type": "code",
   "execution_count": 24,
   "id": "62c8ae77",
   "metadata": {},
   "outputs": [
    {
     "data": {
      "text/plain": [
       "'10 mathi'"
      ]
     },
     "execution_count": 24,
     "metadata": {},
     "output_type": "execute_result"
    }
   ],
   "source": [
    "d"
   ]
  },
  {
   "cell_type": "code",
   "execution_count": 26,
   "id": "f167aeca",
   "metadata": {},
   "outputs": [
    {
     "name": "stdout",
     "output_type": "stream",
     "text": [
      "10\n"
     ]
    }
   ],
   "source": [
    "def myfun(n):\n",
    "    return lambda a:a*n\n",
    "mathi=myfun(5)\n",
    "print(mathi(2))"
   ]
  },
  {
   "cell_type": "code",
   "execution_count": 25,
   "id": "e6c009ef",
   "metadata": {},
   "outputs": [
    {
     "name": "stdout",
     "output_type": "stream",
     "text": [
      "80\n"
     ]
    }
   ],
   "source": [
    "tg=lambda a,b:a+b\n",
    "print(tg(50,30))"
   ]
  },
  {
   "cell_type": "code",
   "execution_count": 30,
   "id": "9f3cc832",
   "metadata": {},
   "outputs": [
    {
     "name": "stdout",
     "output_type": "stream",
     "text": [
      "3125\n"
     ]
    }
   ],
   "source": [
    "sr=lambda x:x**x\n",
    "print(sr(5))"
   ]
  },
  {
   "cell_type": "code",
   "execution_count": 32,
   "id": "f26f54dd",
   "metadata": {},
   "outputs": [
    {
     "data": {
      "text/plain": [
       "3125"
      ]
     },
     "execution_count": 32,
     "metadata": {},
     "output_type": "execute_result"
    }
   ],
   "source": [
    "a=5**5\n",
    "a"
   ]
  },
  {
   "cell_type": "code",
   "execution_count": 36,
   "id": "e2220ea0",
   "metadata": {},
   "outputs": [
    {
     "data": {
      "text/plain": [
       "3125"
      ]
     },
     "execution_count": 36,
     "metadata": {},
     "output_type": "execute_result"
    }
   ],
   "source": [
    "5*5*5*5*5"
   ]
  },
  {
   "cell_type": "code",
   "execution_count": 28,
   "id": "cfa3cbea",
   "metadata": {},
   "outputs": [
    {
     "name": "stdout",
     "output_type": "stream",
     "text": [
      "enter the value5\n"
     ]
    },
    {
     "data": {
      "text/plain": [
       "120"
      ]
     },
     "execution_count": 28,
     "metadata": {},
     "output_type": "execute_result"
    }
   ],
   "source": [
    "import math\n",
    "g=int(input(\"enter the value\"))\n",
    "math.factorial(g)"
   ]
  },
  {
   "cell_type": "code",
   "execution_count": null,
   "id": "5ab04416",
   "metadata": {},
   "outputs": [],
   "source": []
  }
 ],
 "metadata": {
  "kernelspec": {
   "display_name": "Python 3 (ipykernel)",
   "language": "python",
   "name": "python3"
  },
  "language_info": {
   "codemirror_mode": {
    "name": "ipython",
    "version": 3
   },
   "file_extension": ".py",
   "mimetype": "text/x-python",
   "name": "python",
   "nbconvert_exporter": "python",
   "pygments_lexer": "ipython3",
   "version": "3.9.12"
  }
 },
 "nbformat": 4,
 "nbformat_minor": 5
}
